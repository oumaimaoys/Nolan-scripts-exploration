{
 "cells": [
  {
   "cell_type": "code",
   "execution_count": 1,
   "metadata": {},
   "outputs": [],
   "source": [
    "from wordcloud import WordCloud\n",
    "import matplotlib.pyplot as plt\n",
    "import nltk\n",
    "from collections import Counter"
   ]
  },
  {
   "cell_type": "markdown",
   "metadata": {},
   "source": [
    "# exploration"
   ]
  },
  {
   "cell_type": "code",
   "execution_count": null,
   "metadata": {},
   "outputs": [],
   "source": [
    "# set path to text to analyze\n",
    "text = \"data\\Scripts\\\\2006 The Prestige Scripts.txt\""
   ]
  },
  {
   "cell_type": "markdown",
   "metadata": {},
   "source": [
    "## Word Cloud "
   ]
  },
  {
   "cell_type": "code",
   "execution_count": 2,
   "metadata": {},
   "outputs": [],
   "source": [
    "def getWordCloud(text_file_path, i = 0, stop_words = []):\n",
    "    \n",
    "    # get text from file\n",
    "    text = open(text_file_path).read().lower()\n",
    "\n",
    "    # generate word cloud\n",
    "    wordcloud = WordCloud(random_state= 8,\n",
    "                          normalize_plurals = False,\n",
    "                          width=600,\n",
    "                          height= 300,\n",
    "                          max_words=300,\n",
    "                          stopwords=stop_words).generate(text)\n",
    "    \n",
    "    # vizualize word cloud\n",
    "    fig, ax = plt.subplots(1,1, figsize=(9,6))\n",
    "    plt.imshow(wordcloud, interpolation='bilinear')\n",
    "    plt.axis('off')\n",
    "    i += 1\n",
    "    plt.savefig('data/wordClouds/' + text_file_path[-4:] + str(i) + '.png')\n",
    "    plt.show()"
   ]
  },
  {
   "cell_type": "markdown",
   "metadata": {},
   "source": [
    "### clean the text\n",
    "remove common stop words\n",
    "find unique stop words to this text\n",
    "remove punctuations\n",
    "split text to ngrammes"
   ]
  },
  {
   "cell_type": "code",
   "execution_count": null,
   "metadata": {},
   "outputs": [],
   "source": [
    "# word count\n"
   ]
  }
 ],
 "metadata": {
  "kernelspec": {
   "display_name": "venv",
   "language": "python",
   "name": "python3"
  },
  "language_info": {
   "codemirror_mode": {
    "name": "ipython",
    "version": 3
   },
   "file_extension": ".py",
   "mimetype": "text/x-python",
   "name": "python",
   "nbconvert_exporter": "python",
   "pygments_lexer": "ipython3",
   "version": "3.11.7"
  }
 },
 "nbformat": 4,
 "nbformat_minor": 2
}
